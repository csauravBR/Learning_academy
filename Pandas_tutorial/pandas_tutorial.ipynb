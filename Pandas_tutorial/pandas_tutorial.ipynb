{
 "cells": [
  {
   "cell_type": "markdown",
   "metadata": {
    "nbpresent": {
     "id": "efd76771-f764-40d8-abdc-18628e58a7d2"
    }
   },
   "source": [
    "# Pandas\n",
    "Pandas is an open-source Python Library providing high-performance data manipulation and analysis tool\n",
    "\n",
    "Tutorial reference - https://www.tutorialspoint.com/python_pandas\n"
   ]
  },
  {
   "cell_type": "markdown",
   "metadata": {},
   "source": [
    "## Content \n",
    "This notebook tutorial will cover these topics (and few extra):-\n",
    "\n",
    "- [Loading CSV](#load_data)\n",
    "- [Quickly Viewing few records of data](#quick_view)\n",
    "- [Quickly Getting basic statistics about data](#quick_stat)\n",
    "- [Filtering - how to select data in a column](#filters)\n",
    "- [Sum,count- some math function for column or rows values](#math_function)\n",
    "- [Inplace - how to do operation not on copy of variable but on same variable](#add_column)\n",
    "- [Fillna - how to fill missing value](#add_column)\n",
    "- [Drop/rename - how to delete particular column or row](#delete_rename)\n",
    "- [loc/iloc - how to get data from a specific row and column](#loc_row)\n",
    "- [Creating data frame - how to create data frame](#create_from_np)\n",
    "- [Append - add two data frame or add a row in a dataframe](#append)\n",
    "- [Apply - apply any operation to each cell.](#apply)\n",
    "- [Lambda function- doing operation on row and column](#lambda)"
   ]
  },
  {
   "cell_type": "markdown",
   "metadata": {
    "nbpresent": {
     "id": "e21cb4dc-6729-4aab-8e89-1284843073c3"
    }
   },
   "source": [
    "### Let's start!!  Pandas is Excel of python\n",
    "\n",
    "![image](media/excel.jpg)\n",
    "\n",
    "image reference - https://www.addictivetips.com/microsoft-office"
   ]
  },
  {
   "cell_type": "markdown",
   "metadata": {
    "nbpresent": {
     "id": "170836b1-11dc-4ca7-abe6-16469468380f"
    }
   },
   "source": [
    "### Pandas deals with the following data structures −\n",
    "\n",
    "- Series\n",
    "- DataFrame\n",
    "\n",
    "Data Structure | Dimensions\t| Description\n",
    "--- | --- | ---\n",
    "Series | 1\t| 1D labeled homogeneous array, sizeimmutable.\n",
    "Data Frames\t| 2\t| General 2D labeled, size-mutable tabular structure with potentially heterogeneously typed columns."
   ]
  },
  {
   "cell_type": "markdown",
   "metadata": {
    "nbpresent": {
     "id": "f63f316d-4bbc-43ed-b6a0-975eae7727b6"
    }
   },
   "source": [
    " "
   ]
  },
  {
   "cell_type": "markdown",
   "metadata": {
    "nbpresent": {
     "id": "6a9798dd-767b-4f04-ba1f-9cdab90ae595"
    }
   },
   "source": [
    "### Series\n",
    "\n",
    "Series is a one-dimensional array like structure with homogeneous data. For example, the following series is a collection of integers 10, 23, 56, …\n",
    "\n",
    "10 | 23\t| 56 | 17 | 52\t| 61\t| 73\t| 90\t| 26\t| 72\n",
    "\n",
    "- Homogeneous data"
   ]
  },
  {
   "cell_type": "markdown",
   "metadata": {
    "nbpresent": {
     "id": "096ebcef-97de-4695-b9f6-ff9382aa522d"
    }
   },
   "source": [
    "### DataFrame\n",
    "DataFrame is a two-dimensional array with heterogeneous data. For example,\n",
    "\n",
    "Name | Age\t| Gender\t| Rating\n",
    "--- | --- | --- | ---\n",
    "Steve\t| 32 | Male\t| 3.45\n",
    "Lia\t| 28\t| Female\t| 4.6\n",
    "Vin\t| 45\t| Male\t| 3.9\n",
    "Katie | 38\t| Female\t| 2.78\n",
    "\n",
    "### Data Type of Columns\n",
    "The data types of the four columns are as follows −\n",
    "\n",
    "Column\t| Type\n",
    "--- | ---\n",
    "Name | String\n",
    "Age\t| Integer\n",
    "Gender\t| String\n",
    "Rating\t| Float\n"
   ]
  },
  {
   "cell_type": "markdown",
   "metadata": {
    "nbpresent": {
     "id": "923fa23c-7052-4d5e-8680-20ccb0305f05"
    }
   },
   "source": [
    "### Install pandas from notebook\n",
    "Execute the below command to install"
   ]
  },
  {
   "cell_type": "code",
   "execution_count": null,
   "metadata": {
    "nbpresent": {
     "id": "1b3c8913-41b2-4a00-8d81-5dd0f1f7c465"
    }
   },
   "outputs": [],
   "source": [
    "%%sh\n",
    "pip install pandas\n",
    "pip install numpy"
   ]
  },
  {
   "cell_type": "markdown",
   "metadata": {
    "nbpresent": {
     "id": "36df115b-4205-4aa8-897f-ae1d340fd331"
    }
   },
   "source": [
    "## Lets dive into handling data\n",
    "We will import csv file (which we generally get from client or any prepared problem)"
   ]
  },
  {
   "cell_type": "markdown",
   "metadata": {
    "nbpresent": {
     "id": "b578217e-c0f3-4ad6-a566-8b5e6d0f48f3"
    }
   },
   "source": [
    "#### Import pandas\n",
    "\n",
    "You have to import python package to use it. execute below cell to import pandas and other necessary packages"
   ]
  },
  {
   "cell_type": "code",
   "execution_count": null,
   "metadata": {
    "nbpresent": {
     "id": "1eecfc0b-895c-47ad-97f2-5dbfd16c513e"
    }
   },
   "outputs": [],
   "source": [
    "import pandas as pd\n",
    "import numpy as np"
   ]
  },
  {
   "cell_type": "markdown",
   "metadata": {
    "nbpresent": {
     "id": "2ccfb13e-a274-4895-9681-babea929963c"
    }
   },
   "source": [
    "### <a name=\"load_data\"></a> 1. Loading CSV\n",
    "\n",
    "syntax:\n",
    "- df=pd.read_csv(filepath)"
   ]
  },
  {
   "cell_type": "code",
   "execution_count": null,
   "metadata": {
    "nbpresent": {
     "id": "63096a22-c95e-404e-991a-6751574c309c"
    }
   },
   "outputs": [],
   "source": [
    "data=pd.read_csv('data/titanic_train.csv')"
   ]
  },
  {
   "cell_type": "markdown",
   "metadata": {
    "nbpresent": {
     "id": "cb3c15b1-e6db-4699-827c-5de0b8eaf6b8"
    }
   },
   "source": [
    "### <a name=\"quick_view\"></a>2. Quickly Viewing few records of data\n",
    "\n",
    "syntax:\n",
    "- df.head(number of data from top)\n",
    "- df.tail(number of data from bottom)"
   ]
  },
  {
   "cell_type": "code",
   "execution_count": null,
   "metadata": {
    "nbpresent": {
     "id": "5c982c1a-ce16-4cac-bfcf-cadb6197976e"
    }
   },
   "outputs": [],
   "source": [
    "data.head()"
   ]
  },
  {
   "cell_type": "markdown",
   "metadata": {
    "nbpresent": {
     "id": "0d942650-6695-47be-b620-c9a7174f0963"
    }
   },
   "source": [
    "### <a name=\"quick_stat\"></a>3. Quick data statistics\n",
    "\n",
    "syntax:\n",
    "- df.describe()"
   ]
  },
  {
   "cell_type": "code",
   "execution_count": null,
   "metadata": {
    "nbpresent": {
     "id": "b283e44d-ceaa-4268-9185-29ecb0e07c64"
    }
   },
   "outputs": [],
   "source": [
    "data.describe()"
   ]
  },
  {
   "cell_type": "markdown",
   "metadata": {
    "nbpresent": {
     "id": "6f7bf4d9-4522-4661-bbb1-2d318c701aa6"
    }
   },
   "source": [
    "#### Extras"
   ]
  },
  {
   "cell_type": "code",
   "execution_count": null,
   "metadata": {
    "nbpresent": {
     "id": "12bbb35e-c386-4007-add3-09f7b74f95fb"
    }
   },
   "outputs": [],
   "source": [
    "# 3.1 to get all columns in the data\n",
    "data.columns"
   ]
  },
  {
   "cell_type": "code",
   "execution_count": null,
   "metadata": {
    "nbpresent": {
     "id": "bea76e13-cee4-4504-a560-e6afbb8db1f3"
    }
   },
   "outputs": [],
   "source": [
    "# 3.2 get some info about each column\n",
    "data.info()"
   ]
  },
  {
   "cell_type": "markdown",
   "metadata": {
    "nbpresent": {
     "id": "a4095a41-d9b7-4408-98dd-8ee233690f6e"
    }
   },
   "source": [
    "### 4. Digging deeper into the data\n",
    "\n",
    "#### lets see what was the survival ratio of male and female"
   ]
  },
  {
   "cell_type": "markdown",
   "metadata": {
    "nbpresent": {
     "id": "f2c22db6-71b3-42be-b9b9-0aa958f800ff"
    }
   },
   "source": [
    "#### 4.1 Dejavu\n",
    "Arrays: How do you select particular data from an array. Lets see."
   ]
  },
  {
   "cell_type": "code",
   "execution_count": null,
   "metadata": {
    "nbpresent": {
     "id": "2b87d87c-958a-4ea2-9e3b-2812510a9adb"
    }
   },
   "outputs": [],
   "source": [
    "x=[1,2,3,4,5]\n",
    "\n",
    "#1 to select 3rd element i.e number =3. we do this\n",
    "print(\"first print: \",x[2])\n",
    "\n",
    "y=np.array([[1,2,3],\n",
    "           [4,5,6],\n",
    "           [7,8,9]])\n",
    "\n",
    "#2 select data on 2nd row 1st column i.e number =4. we do\n",
    "print(\"second print: \",y[1,0])\n",
    "print(\"thiird print: \",y[1])"
   ]
  },
  {
   "cell_type": "markdown",
   "metadata": {
    "nbpresent": {
     "id": "67dc7b5e-eaf4-4f58-9457-2166deecfb43"
    }
   },
   "source": [
    "#### 4.2 Back to Pandas - Selecting columns\n",
    "Let see how to select column in Pandas"
   ]
  },
  {
   "cell_type": "code",
   "execution_count": null,
   "metadata": {
    "nbpresent": {
     "id": "e49b547a-cbb6-4f21-a8d5-e64a1aa88935"
    }
   },
   "outputs": [],
   "source": [
    "# selecting only one column aka FILTER in excel\n",
    "data['Gender']\n",
    "\n",
    "#to select multiple column you can pass many columns name e.g. data[['Sex','Survived']]"
   ]
  },
  {
   "cell_type": "markdown",
   "metadata": {
    "nbpresent": {
     "id": "49920ecd-7405-4bd3-9cc1-e8740e43f217"
    }
   },
   "source": [
    "### <a name=\"filters\"></a>5. Applying filters in Pandas (same as in Excel)"
   ]
  },
  {
   "cell_type": "code",
   "execution_count": null,
   "metadata": {
    "nbpresent": {
     "id": "81b2ee02-c06d-4069-bb1c-436fc90420da"
    }
   },
   "outputs": [],
   "source": [
    "#applying filter\n",
    "data[data['Gender']=='female']"
   ]
  },
  {
   "cell_type": "code",
   "execution_count": null,
   "metadata": {},
   "outputs": [],
   "source": [
    "#Class-work. Try geting Fare, Cabin, Embarked columns"
   ]
  },
  {
   "cell_type": "code",
   "execution_count": null,
   "metadata": {
    "nbpresent": {
     "id": "11d17c8c-9628-484c-a99f-06e27fc51060"
    }
   },
   "outputs": [],
   "source": [
    "# multi- filters\n",
    "data[(data['Gender']=='female') & (data['Survived']==1)]"
   ]
  },
  {
   "cell_type": "code",
   "execution_count": null,
   "metadata": {},
   "outputs": [],
   "source": [
    "#class-work 1. get data whose age is greater than 17\n",
    "#class-work 2. get data whose age is greater than 17 and embarked is S"
   ]
  },
  {
   "cell_type": "code",
   "execution_count": null,
   "metadata": {
    "nbpresent": {
     "id": "7f45d74d-a7f7-4cc0-be0c-be12da77888d"
    }
   },
   "outputs": [],
   "source": [
    "#Question - what percent of females survived\n",
    "233/314"
   ]
  },
  {
   "cell_type": "code",
   "execution_count": null,
   "metadata": {
    "nbpresent": {
     "id": "a2a27c00-ed51-4a56-afae-cce834af3638"
    }
   },
   "outputs": [],
   "source": [
    "# Advanced way to calculate percentage of female survived\n",
    "data[['Gender','Survived']].groupby('Gender').mean()"
   ]
  },
  {
   "cell_type": "markdown",
   "metadata": {
    "nbpresent": {
     "id": "557f5891-0476-483d-b944-5c8faf1b9371"
    }
   },
   "source": [
    "### <a name=\"math_function\"></a>6. Introducing basic math functions\n",
    "How many people intotal survived\n",
    "- use of df.sum() function as in excel\n",
    "- use of df.count() function as in exccel"
   ]
  },
  {
   "cell_type": "code",
   "execution_count": null,
   "metadata": {
    "nbpresent": {
     "id": "ccb21a4b-2d8a-4878-ade2-bdc3fca91eb4"
    }
   },
   "outputs": [],
   "source": [
    "data['Survived'].sum()"
   ]
  },
  {
   "cell_type": "code",
   "execution_count": null,
   "metadata": {},
   "outputs": [],
   "source": [
    "#class-work find average of age of people who was in parch 2"
   ]
  },
  {
   "cell_type": "code",
   "execution_count": null,
   "metadata": {
    "nbpresent": {
     "id": "9ca3864b-ec59-42e4-9dd8-9f499f0ef3f4"
    }
   },
   "outputs": [],
   "source": [
    "#percentage of people survived\n",
    "print(\"Total number of people\",data.shape[0])\n",
    "data['Survived'].sum()/data.shape[0]\n",
    "#you can also use - data['Survived'].sum()/data['Survived'].count()"
   ]
  },
  {
   "cell_type": "markdown",
   "metadata": {
    "nbpresent": {
     "id": "dd674e4b-8e9a-4f1d-ab19-1a3c17c96864"
    }
   },
   "source": [
    "### <a name=\"add_column\"></a>7. Adding new column into the present dataframe\n",
    "New concept introduced:-\n",
    "\n",
    "- np.nan\n",
    "- fillna()\n",
    "- inplace"
   ]
  },
  {
   "cell_type": "code",
   "execution_count": null,
   "metadata": {
    "nbpresent": {
     "id": "5926611a-4b03-486a-8a8b-d989ad008567"
    }
   },
   "outputs": [],
   "source": [
    "#check current state of data\n",
    "data.head()"
   ]
  },
  {
   "cell_type": "code",
   "execution_count": null,
   "metadata": {
    "nbpresent": {
     "id": "0ee885a8-3e36-4d86-8c09-1824aeea3e83"
    }
   },
   "outputs": [],
   "source": [
    "#1. create new column with value 2 and check\n",
    "data['new_column1']=2\n",
    "data.head()"
   ]
  },
  {
   "cell_type": "code",
   "execution_count": null,
   "metadata": {},
   "outputs": [],
   "source": [
    "#class-work. Create new column with ship, value = titanic"
   ]
  },
  {
   "cell_type": "code",
   "execution_count": null,
   "metadata": {
    "nbpresent": {
     "id": "bf302af1-4f97-41a1-9922-069da9228393"
    }
   },
   "outputs": [],
   "source": [
    "#2. create new column with null value\n",
    "data['new_column2']=np.nan\n",
    "data.head()"
   ]
  },
  {
   "cell_type": "code",
   "execution_count": null,
   "metadata": {
    "nbpresent": {
     "id": "78fdfa48-00a8-4398-a1b3-e7f52aab7be5"
    }
   },
   "outputs": [],
   "source": [
    "# 3. fill holes i.e. fill some values which are not defined in the table\n",
    "data['new_column2'].fillna(0,inplace=True)\n",
    "data.head()\n"
   ]
  },
  {
   "cell_type": "code",
   "execution_count": null,
   "metadata": {
    "nbpresent": {
     "id": "aed07249-f5a6-46b6-ac8e-896818099542"
    }
   },
   "outputs": [],
   "source": [
    "#calculate Fare/age for each passenger\n",
    "data['ratio']=data['Fare']/data['Age']"
   ]
  },
  {
   "cell_type": "markdown",
   "metadata": {
    "nbpresent": {
     "id": "995b667a-8c91-4c09-b6bb-8b67f58bd3b0"
    }
   },
   "source": [
    "### <a name=\"delete_rename\"></a>8. Lets Delete unwanted columns or Rename the columns \n",
    "\n",
    "New concept introduced-\n",
    "- df.drop()\n",
    "- df.rename()"
   ]
  },
  {
   "cell_type": "code",
   "execution_count": null,
   "metadata": {
    "nbpresent": {
     "id": "1038b205-d223-4a86-8ecc-0314a709a6e3"
    }
   },
   "outputs": [],
   "source": [
    "#drop column. (Remember axis=1 represent column so we need to use axis=1)\n",
    "data.drop(['new_column2'],axis=1)"
   ]
  },
  {
   "cell_type": "code",
   "execution_count": null,
   "metadata": {},
   "outputs": [],
   "source": [
    "#class-work. Drop column PassengerId from the table on 1. copy"
   ]
  },
  {
   "cell_type": "code",
   "execution_count": null,
   "metadata": {},
   "outputs": [],
   "source": [
    "data.head()"
   ]
  },
  {
   "cell_type": "code",
   "execution_count": null,
   "metadata": {
    "nbpresent": {
     "id": "ee2942d7-eb5b-4628-8942-ef2a3714b7f3"
    }
   },
   "outputs": [],
   "source": [
    "# drop column INPLACE\n",
    "data.drop(['new_column2'],axis=1,inplace=True)\n",
    "data.head()"
   ]
  },
  {
   "cell_type": "code",
   "execution_count": null,
   "metadata": {},
   "outputs": [],
   "source": [
    "#class-work. Drop column PassengerId from the table on 1. inplace"
   ]
  },
  {
   "cell_type": "code",
   "execution_count": null,
   "metadata": {
    "nbpresent": {
     "id": "2b734285-6fbf-466d-9b10-73d20c2d2910"
    }
   },
   "outputs": [],
   "source": [
    "data.head()\n",
    "data.rename(columns={'Gender':'Blunder'}) #this is not in place"
   ]
  },
  {
   "cell_type": "code",
   "execution_count": null,
   "metadata": {},
   "outputs": [],
   "source": [
    "#class-work. rename gender column inplace "
   ]
  },
  {
   "cell_type": "markdown",
   "metadata": {
    "nbpresent": {
     "id": "36692ca0-e27d-47f7-9df6-caa3e8225bce"
    }
   },
   "source": [
    "### <a name=\"loc_row\"></a>9. Time to manuplate rows\n",
    "New concept introdued:-\n",
    "\n",
    "1. df.index\n",
    "2. df.iloc - for number based index\n",
    "3. df.loc - for label based index or condition based\n",
    "\n",
    "[Appendix 1](#Apendix1) contains more df.loc usecases"
   ]
  },
  {
   "cell_type": "markdown",
   "metadata": {},
   "source": [
    "##### iloc\n",
    "\n",
    "selecting data froma row and column"
   ]
  },
  {
   "cell_type": "code",
   "execution_count": null,
   "metadata": {
    "nbpresent": {
     "id": "cb973488-eb0a-4845-93d4-2dc6ae8db829"
    }
   },
   "outputs": [],
   "source": [
    "data['Fare'].iloc[3]"
   ]
  },
  {
   "cell_type": "markdown",
   "metadata": {},
   "source": [
    "##### loc"
   ]
  },
  {
   "cell_type": "code",
   "execution_count": null,
   "metadata": {
    "nbpresent": {
     "id": "cbcfbf51-1ffc-4557-884b-7eced44efa4c"
    }
   },
   "outputs": [],
   "source": [
    "data.loc[(data['Fare'] > 100) & (data['Fare'] <= 200)]"
   ]
  },
  {
   "cell_type": "code",
   "execution_count": null,
   "metadata": {
    "nbpresent": {
     "id": "4744b9dd-84ba-4574-8fa8-5e90050e03b1"
    }
   },
   "outputs": [],
   "source": [
    "#Deleting row\n",
    "#print(data.head())\n",
    "idx=data[(data['Pclass']==2)].index\n",
    "data.drop(idx)\n"
   ]
  },
  {
   "cell_type": "markdown",
   "metadata": {},
   "source": [
    "#### <a name=\"append\"></a>9.1 APPEND function"
   ]
  },
  {
   "cell_type": "code",
   "execution_count": null,
   "metadata": {
    "nbpresent": {
     "id": "60e70099-7910-4796-96df-386e6e1c36e2"
    }
   },
   "outputs": [],
   "source": [
    "### Adding new rows to DataFrame\n",
    "\n",
    "#Method 1:\n",
    "#create new dataframe with values.Keep cloumns same as original column\n",
    "df2=pd.DataFrame([[900,0,3,'abhishek','male',23,1,0,'dasd',8,'c123','s',2.3]],columns=data.columns)\n",
    "\n",
    "# append this data frame to old one\n",
    "data.append(df2,ignore_index=True)\n",
    "\n"
   ]
  },
  {
   "cell_type": "code",
   "execution_count": null,
   "metadata": {},
   "outputs": [],
   "source": [
    "#class-work: append one on "
   ]
  },
  {
   "cell_type": "code",
   "execution_count": null,
   "metadata": {},
   "outputs": [],
   "source": [
    "df2.head()"
   ]
  },
  {
   "cell_type": "code",
   "execution_count": null,
   "metadata": {
    "nbpresent": {
     "id": "d2f7f269-554d-44ff-9002-0abae4446e8a"
    }
   },
   "outputs": [],
   "source": [
    "#Method 2\n",
    "length=df2.shape[0]\n",
    "df2.loc[length]=[900,0,3,'abhishek','male',23,1,0,'dasd',8,'c123','s',2.3]"
   ]
  },
  {
   "cell_type": "code",
   "execution_count": null,
   "metadata": {},
   "outputs": [],
   "source": [
    "df2.head()"
   ]
  },
  {
   "cell_type": "markdown",
   "metadata": {},
   "source": [
    "#### 9.2 CONCAT function"
   ]
  },
  {
   "cell_type": "code",
   "execution_count": null,
   "metadata": {},
   "outputs": [],
   "source": [
    "pd.concat([data,df2],axis=0) #remember inplace"
   ]
  },
  {
   "cell_type": "markdown",
   "metadata": {
    "nbpresent": {
     "id": "61c8afb3-eb76-4510-a0da-056ca57195c4"
    }
   },
   "source": [
    "### <a name=\"create_from_np\"></a>10. Creating DataFrame from numpy array\n",
    "\n",
    "New concepts introduced"
   ]
  },
  {
   "cell_type": "code",
   "execution_count": null,
   "metadata": {
    "nbpresent": {
     "id": "de0fce38-8c34-4d8e-8d18-6e793e45431e"
    }
   },
   "outputs": [],
   "source": [
    "new_df=pd.DataFrame([[1,2,3],[1,4,3],[1,5,3],[1,6,3]],columns=['a','b','c'])"
   ]
  },
  {
   "cell_type": "code",
   "execution_count": null,
   "metadata": {
    "nbpresent": {
     "id": "5eaae7af-8fd3-4867-aeaf-9af646a20247"
    }
   },
   "outputs": [],
   "source": [
    "new_df"
   ]
  },
  {
   "cell_type": "code",
   "execution_count": null,
   "metadata": {
    "nbpresent": {
     "id": "2baa2d71-d9e8-4265-be95-7a6c86b58a59"
    }
   },
   "outputs": [],
   "source": [
    "new_df.iloc[3][['b']]"
   ]
  },
  {
   "cell_type": "markdown",
   "metadata": {},
   "source": [
    "### <a name=\"apply\"></a>11. Applying operations in dataframe \n",
    "New concept introduced\n",
    "- df.apply()\n"
   ]
  },
  {
   "cell_type": "code",
   "execution_count": null,
   "metadata": {},
   "outputs": [],
   "source": [
    "df = pd.DataFrame([[4, 9],] * 3, columns=['A', 'B'])\n",
    "df"
   ]
  },
  {
   "cell_type": "code",
   "execution_count": null,
   "metadata": {},
   "outputs": [],
   "source": [
    "df.apply(np.sqrt)"
   ]
  },
  {
   "cell_type": "code",
   "execution_count": null,
   "metadata": {},
   "outputs": [],
   "source": [
    "#operation column wise\n",
    "df.apply(np.sum, axis=0)"
   ]
  },
  {
   "cell_type": "code",
   "execution_count": null,
   "metadata": {},
   "outputs": [],
   "source": [
    "#applying operations row wise\n",
    "df.apply(np.sum, axis=1)"
   ]
  },
  {
   "cell_type": "code",
   "execution_count": null,
   "metadata": {},
   "outputs": [],
   "source": [
    "#gives new unique value count in a series\n",
    "df['A'].value_counts()"
   ]
  },
  {
   "cell_type": "markdown",
   "metadata": {},
   "source": [
    "### <a name=\"lambda\"></a>12. Lambda Function with df.apply function"
   ]
  },
  {
   "cell_type": "code",
   "execution_count": null,
   "metadata": {},
   "outputs": [],
   "source": [
    "df['A'].apply(lambda x: x/1.25) "
   ]
  },
  {
   "cell_type": "code",
   "execution_count": null,
   "metadata": {},
   "outputs": [],
   "source": [
    "df2 = pd.DataFrame([[4, 9],] * 2, columns=['A', 'B'])"
   ]
  },
  {
   "cell_type": "code",
   "execution_count": null,
   "metadata": {},
   "outputs": [],
   "source": [
    "df"
   ]
  },
  {
   "cell_type": "code",
   "execution_count": null,
   "metadata": {},
   "outputs": [],
   "source": [
    "df3=pd.concat([df,df2],axis=1)"
   ]
  },
  {
   "cell_type": "code",
   "execution_count": null,
   "metadata": {},
   "outputs": [],
   "source": [
    "df3"
   ]
  },
  {
   "cell_type": "markdown",
   "metadata": {
    "nbpresent": {
     "id": "d52d8bd2-f09d-4e29-866a-659c94b87353"
    }
   },
   "source": [
    "### <a name=\"Apendix1\"></a>Apendix 1\n",
    "\n",
    "- Some more loc usecases\n",
    "\n",
    "Collection taken from [here](https://www.shanelynn.ie/select-pandas-dataframe-rows-and-columns-using-iloc-loc-and-ix/#loc-selection)"
   ]
  },
  {
   "cell_type": "code",
   "execution_count": null,
   "metadata": {
    "nbpresent": {
     "id": "72214e35-7f4d-4106-837e-b048dc2a3897"
    }
   },
   "outputs": [],
   "source": [
    "\n",
    "# Select rows with first name Antonio, # and all columns between 'city' and 'email'\n",
    "data.loc[data['first_name'] == 'Antonio', 'city':'email']\n",
    " \n",
    "# Select rows where the email column ends with 'hotmail.com', include all columns\n",
    "data.loc[data['email'].str.endswith(\"hotmail.com\")]   \n",
    " \n",
    "# Select rows with first_name equal to some values, all columns\n",
    "data.loc[data['first_name'].isin(['France', 'Tyisha', 'Eric'])]   \n",
    "       \n",
    "# Select rows with first name Antonio AND hotmail email addresses\n",
    "data.loc[data['email'].str.endswith(\"gmail.com\") & (data['first_name'] == 'Antonio')] \n",
    " \n",
    "# select rows with id column between 100 and 200, and just return 'postal' and 'web' columns\n",
    "data.loc[(data['id'] > 100) & (data['id'] <= 200), ['postal', 'web']] \n",
    " \n",
    "# A lambda function that yields True/False values can also be used.\n",
    "# Select rows where the company name has 4 words in it.\n",
    "data.loc[data['company_name'].apply(lambda x: len(x.split(' ')) == 4)] \n",
    " \n",
    "# Selections can be achieved outside of the main .loc for clarity:\n",
    "# Form a separate variable with your selections:\n",
    "idx = data['company_name'].apply(lambda x: len(x.split(' ')) == 4)\n",
    "# Select only the True values in 'idx' and only the 3 columns specified:\n",
    "data.loc[idx, ['email', 'first_name', 'company']]"
   ]
  },
  {
   "cell_type": "code",
   "execution_count": null,
   "metadata": {},
   "outputs": [],
   "source": []
  }
 ],
 "metadata": {
  "kernelspec": {
   "display_name": "Python [default]",
   "language": "python",
   "name": "python3"
  },
  "language_info": {
   "codemirror_mode": {
    "name": "ipython",
    "version": 3
   },
   "file_extension": ".py",
   "mimetype": "text/x-python",
   "name": "python",
   "nbconvert_exporter": "python",
   "pygments_lexer": "ipython3",
   "version": "3.6.2"
  },
  "nbpresent": {
   "slides": {
    "057744b7-7ea4-4f32-82f8-cc6f014e9c34": {
     "id": "057744b7-7ea4-4f32-82f8-cc6f014e9c34",
     "prev": "e7c61ef7-df53-4bd8-8990-f873c4d1f1d5",
     "regions": {
      "841de23d-e587-4d57-881e-d4843e925024": {
       "attrs": {
        "height": 0.8,
        "width": 0.8,
        "x": 0.1,
        "y": 0.1
       },
       "content": {
        "cell": "b578217e-c0f3-4ad6-a566-8b5e6d0f48f3",
        "part": "whole"
       },
       "id": "841de23d-e587-4d57-881e-d4843e925024"
      }
     }
    },
    "12e071b6-1902-4f83-926a-afceccf4a945": {
     "id": "12e071b6-1902-4f83-926a-afceccf4a945",
     "prev": "bc644df4-2a2f-49e7-a50c-230ceb7391ec",
     "regions": {
      "99405f57-93ef-436e-b7bf-7670b9fb3dd1": {
       "attrs": {
        "height": 0.8,
        "width": 0.8,
        "x": 0.1,
        "y": 0.1
       },
       "content": {
        "cell": "78fdfa48-00a8-4398-a1b3-e7f52aab7be5",
        "part": "whole"
       },
       "id": "99405f57-93ef-436e-b7bf-7670b9fb3dd1"
      }
     }
    },
    "12fcc58f-007c-4361-bf2e-edcb0284203c": {
     "id": "12fcc58f-007c-4361-bf2e-edcb0284203c",
     "prev": "dba426c6-1d59-4a63-a856-a107e93e4c37",
     "regions": {
      "2f1c2db4-80c7-4e3a-bdef-dce3e058601d": {
       "attrs": {
        "height": 0.8,
        "width": 0.8,
        "x": 0.1,
        "y": 0.1
       },
       "content": {
        "cell": "cb3c15b1-e6db-4699-827c-5de0b8eaf6b8",
        "part": "whole"
       },
       "id": "2f1c2db4-80c7-4e3a-bdef-dce3e058601d"
      }
     }
    },
    "146fc32e-b927-46c4-86d0-da002d9db658": {
     "id": "146fc32e-b927-46c4-86d0-da002d9db658",
     "prev": "d1083d90-9a7c-4507-b498-e02b4617377a",
     "regions": {
      "5398607c-eaf0-4e23-99f7-3b01cdece2f0": {
       "attrs": {
        "height": 0.8,
        "width": 0.8,
        "x": 0.1,
        "y": 0.1
       },
       "content": {
        "cell": "2b87d87c-958a-4ea2-9e3b-2812510a9adb",
        "part": "whole"
       },
       "id": "5398607c-eaf0-4e23-99f7-3b01cdece2f0"
      }
     }
    },
    "1a1a4345-30fd-4b20-9799-6e3e87226fdc": {
     "id": "1a1a4345-30fd-4b20-9799-6e3e87226fdc",
     "prev": "c839e0e4-4156-4d70-97fd-3c684cf24dc6",
     "regions": {
      "5ba9b361-ec67-4bb1-83c3-c7b1dd0cb480": {
       "attrs": {
        "height": 0.8,
        "width": 0.8,
        "x": 0.1,
        "y": 0.1
       },
       "content": {
        "cell": "d52d8bd2-f09d-4e29-866a-659c94b87353",
        "part": "whole"
       },
       "id": "5ba9b361-ec67-4bb1-83c3-c7b1dd0cb480"
      }
     }
    },
    "1d924453-6134-490a-87a8-3a64eb3e63cf": {
     "id": "1d924453-6134-490a-87a8-3a64eb3e63cf",
     "prev": "bcfb2fee-9f76-4dcc-b843-b4fac9ad55d3",
     "regions": {
      "5422a598-2386-480c-9d3b-94313aa98255": {
       "attrs": {
        "height": 0.8,
        "width": 0.8,
        "x": 0.1,
        "y": 0.1
       },
       "content": {
        "cell": "2b734285-6fbf-466d-9b10-73d20c2d2910",
        "part": "whole"
       },
       "id": "5422a598-2386-480c-9d3b-94313aa98255"
      }
     }
    },
    "1fc0fba5-16f5-4214-abf0-d7cf1ca9abb3": {
     "id": "1fc0fba5-16f5-4214-abf0-d7cf1ca9abb3",
     "prev": "3bcc58f2-8566-45bc-bd67-b3bda660f9fb",
     "regions": {
      "b40206f0-97e5-43da-976b-4e3786495765": {
       "attrs": {
        "height": 0.8,
        "width": 0.8,
        "x": 0.1,
        "y": 0.1
       },
       "content": {
        "cell": "e49b547a-cbb6-4f21-a8d5-e64a1aa88935",
        "part": "whole"
       },
       "id": "b40206f0-97e5-43da-976b-4e3786495765"
      }
     }
    },
    "20989728-7bba-44cc-8de0-b3405ff6b5b2": {
     "id": "20989728-7bba-44cc-8de0-b3405ff6b5b2",
     "prev": "b1bc88cc-0dd0-4ef5-b8e7-5f550d9fc8c1",
     "regions": {
      "4a8cb0ba-99da-43a8-b652-d006e3a2298c": {
       "attrs": {
        "height": 0.8,
        "width": 0.8,
        "x": 0.1,
        "y": 0.1
       },
       "content": {
        "cell": "cb973488-eb0a-4845-93d4-2dc6ae8db829",
        "part": "whole"
       },
       "id": "4a8cb0ba-99da-43a8-b652-d006e3a2298c"
      }
     }
    },
    "2387b370-c465-4fe0-923b-8c5eb92cd445": {
     "id": "2387b370-c465-4fe0-923b-8c5eb92cd445",
     "prev": "33180221-ab37-4038-86b1-49bf55054de9",
     "regions": {
      "80a6ec6c-7614-40cc-9a3e-5c13f89ad488": {
       "attrs": {
        "height": 0.8,
        "width": 0.8,
        "x": 0.1,
        "y": 0.1
       },
       "content": {
        "cell": "12bbb35e-c386-4007-add3-09f7b74f95fb",
        "part": "whole"
       },
       "id": "80a6ec6c-7614-40cc-9a3e-5c13f89ad488"
      }
     }
    },
    "250162b6-8333-409b-a60b-91b6913374fb": {
     "id": "250162b6-8333-409b-a60b-91b6913374fb",
     "prev": "8a4f29f8-1efc-49bb-b489-7470920df8b5",
     "regions": {
      "a81b4d21-1648-4bd0-b7c7-3f8df607c36f": {
       "attrs": {
        "height": 0.8,
        "width": 0.8,
        "x": 0.1,
        "y": 0.1
       },
       "content": {
        "cell": "7f45d74d-a7f7-4cc0-be0c-be12da77888d",
        "part": "whole"
       },
       "id": "a81b4d21-1648-4bd0-b7c7-3f8df607c36f"
      }
     }
    },
    "279c0aae-0d4d-4990-8cd8-a9c76383efcf": {
     "id": "279c0aae-0d4d-4990-8cd8-a9c76383efcf",
     "prev": "c79fa1e3-99bb-42ac-a7d3-15df957f9bda",
     "regions": {
      "eddfc6fb-2a09-4512-bbb5-2161e91e0faf": {
       "attrs": {
        "height": 0.8,
        "width": 0.8,
        "x": 0.1,
        "y": 0.1
       },
       "content": {
        "cell": "ccb21a4b-2d8a-4878-ade2-bdc3fca91eb4",
        "part": "whole"
       },
       "id": "eddfc6fb-2a09-4512-bbb5-2161e91e0faf"
      }
     }
    },
    "2b5a533a-0bcc-4908-a798-5135502592b4": {
     "id": "2b5a533a-0bcc-4908-a798-5135502592b4",
     "prev": "12fcc58f-007c-4361-bf2e-edcb0284203c",
     "regions": {
      "eb02e402-a7f3-4928-bfd1-178b6ef440d2": {
       "attrs": {
        "height": 0.8,
        "width": 0.8,
        "x": 0.1,
        "y": 0.1
       },
       "content": {
        "cell": "5c982c1a-ce16-4cac-bfcf-cadb6197976e",
        "part": "whole"
       },
       "id": "eb02e402-a7f3-4928-bfd1-178b6ef440d2"
      }
     }
    },
    "33180221-ab37-4038-86b1-49bf55054de9": {
     "id": "33180221-ab37-4038-86b1-49bf55054de9",
     "prev": "a42a0ec1-0087-425c-bc52-c81d4a71dda2",
     "regions": {
      "bda9533a-31cc-434e-af30-d90dd89acd79": {
       "attrs": {
        "height": 0.8,
        "width": 0.8,
        "x": 0.1,
        "y": 0.1
       },
       "content": {
        "cell": "6f7bf4d9-4522-4661-bbb1-2d318c701aa6",
        "part": "whole"
       },
       "id": "bda9533a-31cc-434e-af30-d90dd89acd79"
      }
     }
    },
    "34ef5bbb-d4e6-425a-ae2c-a28b2700bd0c": {
     "id": "34ef5bbb-d4e6-425a-ae2c-a28b2700bd0c",
     "prev": null,
     "regions": {
      "5992debd-4524-4d85-ac03-ae17ef6ac0c6": {
       "attrs": {
        "height": 0.8,
        "width": 0.8,
        "x": 0.1,
        "y": 0.1
       },
       "content": {
        "cell": "efd76771-f764-40d8-abdc-18628e58a7d2",
        "part": "whole"
       },
       "id": "5992debd-4524-4d85-ac03-ae17ef6ac0c6"
      }
     }
    },
    "392b043b-e5c7-4850-b453-83b91af0a789": {
     "id": "392b043b-e5c7-4850-b453-83b91af0a789",
     "prev": "e1653a16-2421-4182-9fd3-130bc79c3f81",
     "regions": {
      "4a471458-1ee3-4684-bbe4-ac2b6d50eb9d": {
       "attrs": {
        "height": 0.8,
        "width": 0.8,
        "x": 0.1,
        "y": 0.1
       },
       "content": {
        "cell": "8c111461-5937-4d55-8677-f948632cc162",
        "part": "whole"
       },
       "id": "4a471458-1ee3-4684-bbe4-ac2b6d50eb9d"
      }
     }
    },
    "3bcc58f2-8566-45bc-bd67-b3bda660f9fb": {
     "id": "3bcc58f2-8566-45bc-bd67-b3bda660f9fb",
     "prev": "146fc32e-b927-46c4-86d0-da002d9db658",
     "regions": {
      "7622c5c0-829e-4251-aac2-1f082fde9d4a": {
       "attrs": {
        "height": 0.8,
        "width": 0.8,
        "x": 0.1,
        "y": 0.1
       },
       "content": {
        "cell": "67dc7b5e-eaf4-4f58-9457-2166deecfb43",
        "part": "whole"
       },
       "id": "7622c5c0-829e-4251-aac2-1f082fde9d4a"
      }
     }
    },
    "44addd01-f4ed-48cd-8fe7-110623c66678": {
     "id": "44addd01-f4ed-48cd-8fe7-110623c66678",
     "prev": "8f05aaa6-721d-4f5d-ad38-f93a38a4a998",
     "regions": {
      "b0517367-b0da-491b-bb8c-ec58c88d477a": {
       "attrs": {
        "height": 0.8,
        "width": 0.8,
        "x": 0.1,
        "y": 0.1
       },
       "content": {
        "cell": "096ebcef-97de-4695-b9f6-ff9382aa522d",
        "part": "whole"
       },
       "id": "b0517367-b0da-491b-bb8c-ec58c88d477a"
      }
     }
    },
    "49d2d1f7-75ff-4455-92f4-68748577179b": {
     "id": "49d2d1f7-75ff-4455-92f4-68748577179b",
     "prev": "9af6352e-429a-4dba-80ba-12d7bf314aab",
     "regions": {
      "c39d42ee-acfe-4293-a899-6e964366a274": {
       "attrs": {
        "height": 0.8,
        "width": 0.8,
        "x": 0.1,
        "y": 0.1
       },
       "content": {
        "cell": "de0fce38-8c34-4d8e-8d18-6e793e45431e",
        "part": "whole"
       },
       "id": "c39d42ee-acfe-4293-a899-6e964366a274"
      }
     }
    },
    "4a1edfca-a98e-4b5a-9859-957d1f28524a": {
     "id": "4a1edfca-a98e-4b5a-9859-957d1f28524a",
     "prev": "1d924453-6134-490a-87a8-3a64eb3e63cf",
     "regions": {
      "fd62d0b9-49be-4e1f-9e76-f08c353db34d": {
       "attrs": {
        "height": 0.8,
        "width": 0.8,
        "x": 0.1,
        "y": 0.1
       },
       "content": {
        "cell": "36692ca0-e27d-47f7-9df6-caa3e8225bce",
        "part": "whole"
       },
       "id": "fd62d0b9-49be-4e1f-9e76-f08c353db34d"
      }
     }
    },
    "56fff65a-2aba-47ec-86b9-375aa027cd43": {
     "id": "56fff65a-2aba-47ec-86b9-375aa027cd43",
     "prev": "057744b7-7ea4-4f32-82f8-cc6f014e9c34",
     "regions": {
      "77059a56-51b5-45fb-8eed-f317669f5a05": {
       "attrs": {
        "height": 0.8,
        "width": 0.8,
        "x": 0.1,
        "y": 0.1
       },
       "content": {
        "cell": "1eecfc0b-895c-47ad-97f2-5dbfd16c513e",
        "part": "whole"
       },
       "id": "77059a56-51b5-45fb-8eed-f317669f5a05"
      }
     }
    },
    "62e84d41-be9b-4bca-a1ef-514e87861c60": {
     "id": "62e84d41-be9b-4bca-a1ef-514e87861c60",
     "prev": "6af80ae9-7dde-45e8-ae95-cc6d7c7fd525",
     "regions": {
      "c509ebee-a501-4340-b2f8-e392774ad5d9": {
       "attrs": {
        "height": 0.8,
        "width": 0.8,
        "x": 0.1,
        "y": 0.1
       },
       "content": {
        "cell": "0ee885a8-3e36-4d86-8c09-1824aeea3e83",
        "part": "whole"
       },
       "id": "c509ebee-a501-4340-b2f8-e392774ad5d9"
      }
     }
    },
    "658464d1-54b7-4b48-9652-4037c735a771": {
     "id": "658464d1-54b7-4b48-9652-4037c735a771",
     "prev": "34ef5bbb-d4e6-425a-ae2c-a28b2700bd0c",
     "regions": {
      "6794aeec-d107-4421-9a08-9e1c1ee36f67": {
       "attrs": {
        "height": 0.8,
        "width": 0.8,
        "x": 0.1,
        "y": 0.1
       },
       "content": {
        "cell": "e21cb4dc-6729-4aab-8e89-1284843073c3",
        "part": "whole"
       },
       "id": "6794aeec-d107-4421-9a08-9e1c1ee36f67"
      }
     }
    },
    "6af80ae9-7dde-45e8-ae95-cc6d7c7fd525": {
     "id": "6af80ae9-7dde-45e8-ae95-cc6d7c7fd525",
     "prev": "fee925cd-6203-48b4-8c6f-f64007536e46",
     "regions": {
      "4df9cd2b-2ea0-4e4e-9e65-3c9f9394c67a": {
       "attrs": {
        "height": 0.8,
        "width": 0.8,
        "x": 0.1,
        "y": 0.1
       },
       "content": {
        "cell": "5926611a-4b03-486a-8a8b-d989ad008567",
        "part": "whole"
       },
       "id": "4df9cd2b-2ea0-4e4e-9e65-3c9f9394c67a"
      }
     }
    },
    "6eeb421c-f600-400e-ace7-b7b258339a19": {
     "id": "6eeb421c-f600-400e-ace7-b7b258339a19",
     "prev": "2b5a533a-0bcc-4908-a798-5135502592b4",
     "regions": {
      "c88f9e12-9eef-4d07-ae89-8de36683461d": {
       "attrs": {
        "height": 0.8,
        "width": 0.8,
        "x": 0.1,
        "y": 0.1
       },
       "content": {
        "cell": "0d942650-6695-47be-b620-c9a7174f0963",
        "part": "whole"
       },
       "id": "c88f9e12-9eef-4d07-ae89-8de36683461d"
      }
     }
    },
    "6f5b1f29-6b6b-49c2-b24d-744b925c2f78": {
     "id": "6f5b1f29-6b6b-49c2-b24d-744b925c2f78",
     "prev": "12e071b6-1902-4f83-926a-afceccf4a945",
     "regions": {
      "2232eeca-25e7-4a4b-ae19-e75e16f5d949": {
       "attrs": {
        "height": 0.8,
        "width": 0.8,
        "x": 0.1,
        "y": 0.1
       },
       "content": {
        "cell": "aed07249-f5a6-46b6-ac8e-896818099542",
        "part": "whole"
       },
       "id": "2232eeca-25e7-4a4b-ae19-e75e16f5d949"
      }
     }
    },
    "765764f3-ef46-4d98-8ac4-56eb7329ff78": {
     "id": "765764f3-ef46-4d98-8ac4-56eb7329ff78",
     "prev": "56fff65a-2aba-47ec-86b9-375aa027cd43",
     "regions": {
      "9cdfd327-e833-484c-9796-285bc044034e": {
       "attrs": {
        "height": 0.8,
        "width": 0.8,
        "x": 0.1,
        "y": 0.1
       },
       "content": {
        "cell": "2ccfb13e-a274-4895-9681-babea929963c",
        "part": "whole"
       },
       "id": "9cdfd327-e833-484c-9796-285bc044034e"
      }
     }
    },
    "7d3db2b6-b9a6-45e7-804e-18e3f07c4777": {
     "id": "7d3db2b6-b9a6-45e7-804e-18e3f07c4777",
     "prev": "279c0aae-0d4d-4990-8cd8-a9c76383efcf",
     "regions": {
      "564385c7-ded0-403c-8f13-b64e4a283fe4": {
       "attrs": {
        "height": 0.8,
        "width": 0.8,
        "x": 0.1,
        "y": 0.1
       },
       "content": {
        "cell": "9ca3864b-ec59-42e4-9dd8-9f499f0ef3f4",
        "part": "whole"
       },
       "id": "564385c7-ded0-403c-8f13-b64e4a283fe4"
      }
     }
    },
    "7d844081-1553-46ee-ba3e-9cec0fb274d8": {
     "id": "7d844081-1553-46ee-ba3e-9cec0fb274d8",
     "prev": "e5c98a52-b16c-4ea2-91cf-eefd27c14188",
     "regions": {
      "798d7655-b8af-4fd4-bc40-35c3e425aeda": {
       "attrs": {
        "height": 0.8,
        "width": 0.8,
        "x": 0.1,
        "y": 0.1
       },
       "content": {
        "cell": "1b3c8913-41b2-4a00-8d81-5dd0f1f7c465",
        "part": "whole"
       },
       "id": "798d7655-b8af-4fd4-bc40-35c3e425aeda"
      }
     }
    },
    "7dcbb802-df70-48b9-93bf-532b99dc281f": {
     "id": "7dcbb802-df70-48b9-93bf-532b99dc281f",
     "prev": "49d2d1f7-75ff-4455-92f4-68748577179b",
     "regions": {
      "0c029662-7fb3-4bd9-8826-4790e5f60971": {
       "attrs": {
        "height": 0.8,
        "width": 0.8,
        "x": 0.1,
        "y": 0.1
       },
       "content": {
        "cell": "5eaae7af-8fd3-4867-aeaf-9af646a20247",
        "part": "whole"
       },
       "id": "0c029662-7fb3-4bd9-8826-4790e5f60971"
      }
     }
    },
    "83efc38f-b0f5-47fe-8b74-36dde2533f78": {
     "id": "83efc38f-b0f5-47fe-8b74-36dde2533f78",
     "prev": "20989728-7bba-44cc-8de0-b3405ff6b5b2",
     "regions": {
      "6722a029-62a6-484b-9807-64b108d421f1": {
       "attrs": {
        "height": 0.8,
        "width": 0.8,
        "x": 0.1,
        "y": 0.1
       },
       "content": {
        "cell": "cbcfbf51-1ffc-4557-884b-7eced44efa4c",
        "part": "whole"
       },
       "id": "6722a029-62a6-484b-9807-64b108d421f1"
      }
     }
    },
    "841af073-4685-4c2f-a22d-beb4ac3c04b4": {
     "id": "841af073-4685-4c2f-a22d-beb4ac3c04b4",
     "prev": "bbb399de-3f91-4d84-988d-fa83a2a7b62e",
     "regions": {
      "e2fc910f-d36d-4b1d-ab96-3dccbd0b7ac2": {
       "attrs": {
        "height": 0.8,
        "width": 0.8,
        "x": 0.1,
        "y": 0.1
       },
       "content": {
        "cell": "a4095a41-d9b7-4408-98dd-8ee233690f6e",
        "part": "whole"
       },
       "id": "e2fc910f-d36d-4b1d-ab96-3dccbd0b7ac2"
      }
     }
    },
    "852ad422-0bfe-4221-bb53-f62d385d8de8": {
     "id": "852ad422-0bfe-4221-bb53-f62d385d8de8",
     "prev": "6f5b1f29-6b6b-49c2-b24d-744b925c2f78",
     "regions": {
      "57657621-ed4c-4b17-993f-248355de913c": {
       "attrs": {
        "height": 0.8,
        "width": 0.8,
        "x": 0.1,
        "y": 0.1
       },
       "content": {
        "cell": "995b667a-8c91-4c09-b6bb-8b67f58bd3b0",
        "part": "whole"
       },
       "id": "57657621-ed4c-4b17-993f-248355de913c"
      }
     }
    },
    "88197adc-c8f9-496e-806c-8b3b6c827ca6": {
     "id": "88197adc-c8f9-496e-806c-8b3b6c827ca6",
     "prev": "1a1a4345-30fd-4b20-9799-6e3e87226fdc",
     "regions": {
      "0b294c25-d35f-43f6-af9f-b8232b24e12c": {
       "attrs": {
        "height": 0.8,
        "width": 0.8,
        "x": 0.1,
        "y": 0.1
       },
       "content": {
        "cell": "72214e35-7f4d-4106-837e-b048dc2a3897",
        "part": "whole"
       },
       "id": "0b294c25-d35f-43f6-af9f-b8232b24e12c"
      }
     }
    },
    "8a4f29f8-1efc-49bb-b489-7470920df8b5": {
     "id": "8a4f29f8-1efc-49bb-b489-7470920df8b5",
     "prev": "c2859d37-11f7-48ef-a93f-28a3378e1da5",
     "regions": {
      "a9c9a8b8-4637-4358-8588-f9c772db70bf": {
       "attrs": {
        "height": 0.8,
        "width": 0.8,
        "x": 0.1,
        "y": 0.1
       },
       "content": {
        "cell": "11d17c8c-9628-484c-a99f-06e27fc51060",
        "part": "whole"
       },
       "id": "a9c9a8b8-4637-4358-8588-f9c772db70bf"
      }
     }
    },
    "8f05aaa6-721d-4f5d-ad38-f93a38a4a998": {
     "id": "8f05aaa6-721d-4f5d-ad38-f93a38a4a998",
     "prev": "c651f3dd-7986-4695-9282-c2888d7d7ccb",
     "regions": {
      "f7045c54-895b-4f6e-bc7a-f6a7a18f033f": {
       "attrs": {
        "height": 0.8,
        "width": 0.8,
        "x": 0.1,
        "y": 0.1
       },
       "content": {
        "cell": "6a9798dd-767b-4f04-ba1f-9cdab90ae595",
        "part": "whole"
       },
       "id": "f7045c54-895b-4f6e-bc7a-f6a7a18f033f"
      }
     }
    },
    "97c13723-8012-4690-9e1b-d6ee361c6cc3": {
     "id": "97c13723-8012-4690-9e1b-d6ee361c6cc3",
     "prev": "852ad422-0bfe-4221-bb53-f62d385d8de8",
     "regions": {
      "36aa10c9-aeab-4836-9c70-f574d785586a": {
       "attrs": {
        "height": 0.8,
        "width": 0.8,
        "x": 0.1,
        "y": 0.1
       },
       "content": {
        "cell": "1038b205-d223-4a86-8ecc-0314a709a6e3",
        "part": "whole"
       },
       "id": "36aa10c9-aeab-4836-9c70-f574d785586a"
      }
     }
    },
    "9af6352e-429a-4dba-80ba-12d7bf314aab": {
     "id": "9af6352e-429a-4dba-80ba-12d7bf314aab",
     "prev": "a7356ba8-4a20-4671-a62b-366c0c289263",
     "regions": {
      "b3388e9f-5aa1-44a7-995d-e7c9c9ddee4b": {
       "attrs": {
        "height": 0.8,
        "width": 0.8,
        "x": 0.1,
        "y": 0.1
       },
       "content": {
        "cell": "61c8afb3-eb76-4510-a0da-056ca57195c4",
        "part": "whole"
       },
       "id": "b3388e9f-5aa1-44a7-995d-e7c9c9ddee4b"
      }
     }
    },
    "a42a0ec1-0087-425c-bc52-c81d4a71dda2": {
     "id": "a42a0ec1-0087-425c-bc52-c81d4a71dda2",
     "prev": "6eeb421c-f600-400e-ace7-b7b258339a19",
     "regions": {
      "29e8e9cd-3339-4035-859b-e0858bd637e4": {
       "attrs": {
        "height": 0.8,
        "width": 0.8,
        "x": 0.1,
        "y": 0.1
       },
       "content": {
        "cell": "b283e44d-ceaa-4268-9185-29ecb0e07c64",
        "part": "whole"
       },
       "id": "29e8e9cd-3339-4035-859b-e0858bd637e4"
      }
     }
    },
    "a7356ba8-4a20-4671-a62b-366c0c289263": {
     "id": "a7356ba8-4a20-4671-a62b-366c0c289263",
     "prev": "c9e2d3f0-bc64-4984-9dac-96e613754d52",
     "regions": {
      "e10a34d1-17cd-49c3-ad0d-261c06ac0f4a": {
       "attrs": {
        "height": 0.8,
        "width": 0.8,
        "x": 0.1,
        "y": 0.1
       },
       "content": {
        "cell": "d2f7f269-554d-44ff-9002-0abae4446e8a",
        "part": "whole"
       },
       "id": "e10a34d1-17cd-49c3-ad0d-261c06ac0f4a"
      }
     }
    },
    "b1bc88cc-0dd0-4ef5-b8e7-5f550d9fc8c1": {
     "id": "b1bc88cc-0dd0-4ef5-b8e7-5f550d9fc8c1",
     "prev": "4a1edfca-a98e-4b5a-9859-957d1f28524a",
     "regions": {
      "16c3b67a-7d05-4393-8d1e-4b0c995ea48c": {
       "attrs": {
        "height": 0.8,
        "width": 0.8,
        "x": 0.1,
        "y": 0.1
       },
       "content": {
        "cell": "bf9f8cb7-0df9-4e37-923a-678220092374",
        "part": "whole"
       },
       "id": "16c3b67a-7d05-4393-8d1e-4b0c995ea48c"
      }
     }
    },
    "b3c4e7a2-6c62-4dee-a692-9e646ba629a9": {
     "id": "b3c4e7a2-6c62-4dee-a692-9e646ba629a9",
     "prev": "250162b6-8333-409b-a60b-91b6913374fb",
     "regions": {
      "65adb6b4-030e-4f33-a69f-51ee250db33b": {
       "attrs": {
        "height": 0.8,
        "width": 0.8,
        "x": 0.1,
        "y": 0.1
       },
       "content": {
        "cell": "a2a27c00-ed51-4a56-afae-cce834af3638",
        "part": "whole"
       },
       "id": "65adb6b4-030e-4f33-a69f-51ee250db33b"
      }
     }
    },
    "bbb399de-3f91-4d84-988d-fa83a2a7b62e": {
     "id": "bbb399de-3f91-4d84-988d-fa83a2a7b62e",
     "prev": "2387b370-c465-4fe0-923b-8c5eb92cd445",
     "regions": {
      "edcf3269-a60a-4b65-94b6-9cdbd686c1eb": {
       "attrs": {
        "height": 0.8,
        "width": 0.8,
        "x": 0.1,
        "y": 0.1
       },
       "content": {
        "cell": "bea76e13-cee4-4504-a560-e6afbb8db1f3",
        "part": "whole"
       },
       "id": "edcf3269-a60a-4b65-94b6-9cdbd686c1eb"
      }
     }
    },
    "bc644df4-2a2f-49e7-a50c-230ceb7391ec": {
     "id": "bc644df4-2a2f-49e7-a50c-230ceb7391ec",
     "prev": "62e84d41-be9b-4bca-a1ef-514e87861c60",
     "regions": {
      "77619cab-ea93-4397-b025-3891e3e59c82": {
       "attrs": {
        "height": 0.8,
        "width": 0.8,
        "x": 0.1,
        "y": 0.1
       },
       "content": {
        "cell": "bf302af1-4f97-41a1-9922-069da9228393",
        "part": "whole"
       },
       "id": "77619cab-ea93-4397-b025-3891e3e59c82"
      }
     }
    },
    "bcfb2fee-9f76-4dcc-b843-b4fac9ad55d3": {
     "id": "bcfb2fee-9f76-4dcc-b843-b4fac9ad55d3",
     "prev": "97c13723-8012-4690-9e1b-d6ee361c6cc3",
     "regions": {
      "a91dfa9e-aadb-4b1a-90e8-a5c522750947": {
       "attrs": {
        "height": 0.8,
        "width": 0.8,
        "x": 0.1,
        "y": 0.1
       },
       "content": {
        "cell": "ee2942d7-eb5b-4628-8942-ef2a3714b7f3",
        "part": "whole"
       },
       "id": "a91dfa9e-aadb-4b1a-90e8-a5c522750947"
      }
     }
    },
    "c2859d37-11f7-48ef-a93f-28a3378e1da5": {
     "id": "c2859d37-11f7-48ef-a93f-28a3378e1da5",
     "prev": "f62c0699-7b8b-4048-a682-511622884d33",
     "regions": {
      "6fd8f7c9-5be2-4d3b-8d53-10c2a8a56112": {
       "attrs": {
        "height": 0.8,
        "width": 0.8,
        "x": 0.1,
        "y": 0.1
       },
       "content": {
        "cell": "81b2ee02-c06d-4069-bb1c-436fc90420da",
        "part": "whole"
       },
       "id": "6fd8f7c9-5be2-4d3b-8d53-10c2a8a56112"
      }
     }
    },
    "c651f3dd-7986-4695-9282-c2888d7d7ccb": {
     "id": "c651f3dd-7986-4695-9282-c2888d7d7ccb",
     "prev": "d2813562-fba0-4c77-9baf-24bb12038e15",
     "regions": {
      "3c721026-f8d1-46c5-81ee-94de9755e7ca": {
       "attrs": {
        "height": 0.8,
        "width": 0.8,
        "x": 0.1,
        "y": 0.1
       },
       "content": {
        "cell": "f63f316d-4bbc-43ed-b6a0-975eae7727b6",
        "part": "whole"
       },
       "id": "3c721026-f8d1-46c5-81ee-94de9755e7ca"
      }
     }
    },
    "c79fa1e3-99bb-42ac-a7d3-15df957f9bda": {
     "id": "c79fa1e3-99bb-42ac-a7d3-15df957f9bda",
     "prev": "b3c4e7a2-6c62-4dee-a692-9e646ba629a9",
     "regions": {
      "00a55da2-8968-4b0a-88b2-5c406f16a84d": {
       "attrs": {
        "height": 0.8,
        "width": 0.8,
        "x": 0.1,
        "y": 0.1
       },
       "content": {
        "cell": "557f5891-0476-483d-b944-5c8faf1b9371",
        "part": "whole"
       },
       "id": "00a55da2-8968-4b0a-88b2-5c406f16a84d"
      }
     }
    },
    "c839e0e4-4156-4d70-97fd-3c684cf24dc6": {
     "id": "c839e0e4-4156-4d70-97fd-3c684cf24dc6",
     "prev": "7dcbb802-df70-48b9-93bf-532b99dc281f",
     "regions": {
      "2823ae2c-0f7c-42e0-a0aa-7b0e8fffe650": {
       "attrs": {
        "height": 0.8,
        "width": 0.8,
        "x": 0.1,
        "y": 0.1
       },
       "content": {
        "cell": "2baa2d71-d9e8-4265-be95-7a6c86b58a59",
        "part": "whole"
       },
       "id": "2823ae2c-0f7c-42e0-a0aa-7b0e8fffe650"
      }
     }
    },
    "c9e2d3f0-bc64-4984-9dac-96e613754d52": {
     "id": "c9e2d3f0-bc64-4984-9dac-96e613754d52",
     "prev": "392b043b-e5c7-4850-b453-83b91af0a789",
     "regions": {
      "6a235dbe-29b6-436f-ad46-8009cc77d81e": {
       "attrs": {
        "height": 0.8,
        "width": 0.8,
        "x": 0.1,
        "y": 0.1
       },
       "content": {
        "cell": "60e70099-7910-4796-96df-386e6e1c36e2",
        "part": "whole"
       },
       "id": "6a235dbe-29b6-436f-ad46-8009cc77d81e"
      }
     }
    },
    "d1083d90-9a7c-4507-b498-e02b4617377a": {
     "id": "d1083d90-9a7c-4507-b498-e02b4617377a",
     "prev": "841af073-4685-4c2f-a22d-beb4ac3c04b4",
     "regions": {
      "6a6a188e-d4ca-4877-a3d1-869b3fe08094": {
       "attrs": {
        "height": 0.8,
        "width": 0.8,
        "x": 0.1,
        "y": 0.1
       },
       "content": {
        "cell": "f2c22db6-71b3-42be-b9b9-0aa958f800ff",
        "part": "whole"
       },
       "id": "6a6a188e-d4ca-4877-a3d1-869b3fe08094"
      }
     }
    },
    "d2813562-fba0-4c77-9baf-24bb12038e15": {
     "id": "d2813562-fba0-4c77-9baf-24bb12038e15",
     "prev": "658464d1-54b7-4b48-9652-4037c735a771",
     "regions": {
      "bde1a420-44e6-40bd-b60e-70cd667ec91c": {
       "attrs": {
        "height": 0.8,
        "width": 0.8,
        "x": 0.1,
        "y": 0.1
       },
       "content": {
        "cell": "170836b1-11dc-4ca7-abe6-16469468380f",
        "part": "whole"
       },
       "id": "bde1a420-44e6-40bd-b60e-70cd667ec91c"
      }
     }
    },
    "dba426c6-1d59-4a63-a856-a107e93e4c37": {
     "id": "dba426c6-1d59-4a63-a856-a107e93e4c37",
     "prev": "765764f3-ef46-4d98-8ac4-56eb7329ff78",
     "regions": {
      "33f91e02-dcbc-4b29-bdb1-5a12e2669254": {
       "attrs": {
        "height": 0.8,
        "width": 0.8,
        "x": 0.1,
        "y": 0.1
       },
       "content": {
        "cell": "63096a22-c95e-404e-991a-6751574c309c",
        "part": "whole"
       },
       "id": "33f91e02-dcbc-4b29-bdb1-5a12e2669254"
      }
     }
    },
    "e1653a16-2421-4182-9fd3-130bc79c3f81": {
     "id": "e1653a16-2421-4182-9fd3-130bc79c3f81",
     "prev": "83efc38f-b0f5-47fe-8b74-36dde2533f78",
     "regions": {
      "6e87787e-577d-4ea5-8d13-f4828fee55b1": {
       "attrs": {
        "height": 0.8,
        "width": 0.8,
        "x": 0.1,
        "y": 0.1
       },
       "content": {
        "cell": "4744b9dd-84ba-4574-8fa8-5e90050e03b1",
        "part": "whole"
       },
       "id": "6e87787e-577d-4ea5-8d13-f4828fee55b1"
      }
     }
    },
    "e5c98a52-b16c-4ea2-91cf-eefd27c14188": {
     "id": "e5c98a52-b16c-4ea2-91cf-eefd27c14188",
     "prev": "44addd01-f4ed-48cd-8fe7-110623c66678",
     "regions": {
      "17a29d04-c353-46f3-98a4-ee213f86847e": {
       "attrs": {
        "height": 0.8,
        "width": 0.8,
        "x": 0.1,
        "y": 0.1
       },
       "content": {
        "cell": "923fa23c-7052-4d5e-8680-20ccb0305f05",
        "part": "whole"
       },
       "id": "17a29d04-c353-46f3-98a4-ee213f86847e"
      }
     }
    },
    "e6bc0940-6d7c-4ef4-ac1b-b6349a0b05e1": {
     "id": "e6bc0940-6d7c-4ef4-ac1b-b6349a0b05e1",
     "prev": "88197adc-c8f9-496e-806c-8b3b6c827ca6",
     "regions": {
      "0d745465-11cb-4472-9bc4-4a3a402ddd55": {
       "attrs": {
        "height": 0.8,
        "width": 0.8,
        "x": 0.1,
        "y": 0.1
       },
       "content": {
        "cell": "4bfab359-5dc3-45e3-bb63-b78b642552d2",
        "part": "whole"
       },
       "id": "0d745465-11cb-4472-9bc4-4a3a402ddd55"
      }
     }
    },
    "e7c61ef7-df53-4bd8-8990-f873c4d1f1d5": {
     "id": "e7c61ef7-df53-4bd8-8990-f873c4d1f1d5",
     "prev": "7d844081-1553-46ee-ba3e-9cec0fb274d8",
     "regions": {
      "0608d030-e2d7-4ece-a739-b448f638ebd1": {
       "attrs": {
        "height": 0.8,
        "width": 0.8,
        "x": 0.1,
        "y": 0.1
       },
       "content": {
        "cell": "36df115b-4205-4aa8-897f-ae1d340fd331",
        "part": "whole"
       },
       "id": "0608d030-e2d7-4ece-a739-b448f638ebd1"
      }
     }
    },
    "f62c0699-7b8b-4048-a682-511622884d33": {
     "id": "f62c0699-7b8b-4048-a682-511622884d33",
     "prev": "1fc0fba5-16f5-4214-abf0-d7cf1ca9abb3",
     "regions": {
      "949ba19d-55bc-4b2c-a055-6f913b737b35": {
       "attrs": {
        "height": 0.8,
        "width": 0.8,
        "x": 0.1,
        "y": 0.1
       },
       "content": {
        "cell": "49920ecd-7405-4bd3-9cc1-e8740e43f217",
        "part": "whole"
       },
       "id": "949ba19d-55bc-4b2c-a055-6f913b737b35"
      }
     }
    },
    "fee925cd-6203-48b4-8c6f-f64007536e46": {
     "id": "fee925cd-6203-48b4-8c6f-f64007536e46",
     "prev": "7d3db2b6-b9a6-45e7-804e-18e3f07c4777",
     "regions": {
      "1edde57c-2d70-4801-9a08-b2eceb32a62e": {
       "attrs": {
        "height": 0.8,
        "width": 0.8,
        "x": 0.1,
        "y": 0.1
       },
       "content": {
        "cell": "dd674e4b-8e9a-4f1d-ab19-1a3c17c96864",
        "part": "whole"
       },
       "id": "1edde57c-2d70-4801-9a08-b2eceb32a62e"
      }
     }
    }
   },
   "themes": {}
  }
 },
 "nbformat": 4,
 "nbformat_minor": 2
}
